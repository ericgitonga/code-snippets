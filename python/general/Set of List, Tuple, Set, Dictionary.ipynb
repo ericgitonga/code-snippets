{
 "cells": [
  {
   "cell_type": "code",
   "execution_count": 1,
   "metadata": {},
   "outputs": [],
   "source": [
    "x_list = [1,2]\n",
    "x_tuple = (1,2)\n",
    "x_set = {1,2}\n",
    "x_dictionary = {1:2}"
   ]
  },
  {
   "cell_type": "code",
   "execution_count": 2,
   "metadata": {},
   "outputs": [],
   "source": [
    "xls = set(dir(x_list))\n",
    "xts = set(dir(x_tuple))\n",
    "xss = set(dir(x_set))\n",
    "xds = set(dir(x_dictionary))"
   ]
  },
  {
   "cell_type": "code",
   "execution_count": 3,
   "metadata": {},
   "outputs": [
    {
     "name": "stdout",
     "output_type": "stream",
     "text": [
      "{'__le__', '__gt__', '__iter__', '__new__', '__class__', '__contains__', '__reduce__', '__init_subclass__', '__eq__', '__ge__', '__str__', '__sizeof__', '__len__', '__getattribute__', '__lt__', '__init__', '__subclasshook__', '__hash__', '__setattr__', '__dir__', '__reduce_ex__', '__ne__', '__delattr__', '__repr__', '__format__', '__doc__'}\n"
     ]
    },
    {
     "data": {
      "text/plain": [
       "(None, 26)"
      ]
     },
     "execution_count": 3,
     "metadata": {},
     "output_type": "execute_result"
    }
   ],
   "source": [
    "print(xls & xts & xss & xds), len(xls & xts & xss & xds)"
   ]
  },
  {
   "cell_type": "code",
   "execution_count": 4,
   "metadata": {},
   "outputs": [
    {
     "name": "stdout",
     "output_type": "stream",
     "text": [
      "{'__le__', '__gt__', '__rmul__', '__iter__', '__new__', '__class__', 'index', '__contains__', '__reduce__', '__init_subclass__', '__eq__', '__ge__', 'count', '__str__', '__getitem__', '__sizeof__', '__len__', '__getattribute__', '__lt__', '__add__', '__mul__', '__init__', '__subclasshook__', '__hash__', '__setattr__', '__dir__', '__reduce_ex__', '__ne__', '__delattr__', '__repr__', '__format__', '__doc__'}\n"
     ]
    },
    {
     "data": {
      "text/plain": [
       "(None, 32)"
      ]
     },
     "execution_count": 4,
     "metadata": {},
     "output_type": "execute_result"
    }
   ],
   "source": [
    "print(xls & xts), len(xls & xts)"
   ]
  }
 ],
 "metadata": {
  "kernelspec": {
   "display_name": "Python 3",
   "language": "python",
   "name": "python3"
  },
  "language_info": {
   "codemirror_mode": {
    "name": "ipython",
    "version": 3
   },
   "file_extension": ".py",
   "mimetype": "text/x-python",
   "name": "python",
   "nbconvert_exporter": "python",
   "pygments_lexer": "ipython3",
   "version": "3.6.5"
  }
 },
 "nbformat": 4,
 "nbformat_minor": 2
}
