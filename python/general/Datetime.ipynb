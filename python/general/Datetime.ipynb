{
 "cells": [
  {
   "cell_type": "markdown",
   "metadata": {},
   "source": [
    "# Use `datetime.strptime()` to extract date information"
   ]
  },
  {
   "cell_type": "code",
   "execution_count": 1,
   "metadata": {},
   "outputs": [
    {
     "name": "stdout",
     "output_type": "stream",
     "text": [
      "The date is 13th, the month number is 9 and the year is 2039\n"
     ]
    }
   ],
   "source": [
    "from datetime import datetime\n",
    "\n",
    "date = '13-Sep-39'\n",
    "\n",
    "day = datetime.strptime(date, '%d-%b-%y').day\n",
    "month = datetime.strptime(date, '%d-%b-%y').month\n",
    "year = datetime.strptime(date, '%d-%b-%y').year\n",
    "\n",
    "print(\"The date is {}th, the month number is {} and the year is {}\".format(day, month, year))"
   ]
  }
 ],
 "metadata": {
  "kernelspec": {
   "display_name": "Python 3",
   "language": "python",
   "name": "python3"
  },
  "language_info": {
   "codemirror_mode": {
    "name": "ipython",
    "version": 3
   },
   "file_extension": ".py",
   "mimetype": "text/x-python",
   "name": "python",
   "nbconvert_exporter": "python",
   "pygments_lexer": "ipython3",
   "version": "3.7.6"
  }
 },
 "nbformat": 4,
 "nbformat_minor": 4
}
