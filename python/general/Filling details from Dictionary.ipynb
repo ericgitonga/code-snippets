{
 "cells": [
  {
   "cell_type": "code",
   "execution_count": 1,
   "metadata": {},
   "outputs": [
    {
     "name": "stdout",
     "output_type": "stream",
     "text": [
      "Type name: Simon\n",
      "Type rank: Says\n",
      "add more? (y/n)\n",
      "I am Simon and I am a Says\n"
     ]
    }
   ],
   "source": [
    "def rank_intro(dictionary):\n",
    "    for key, val in dictionary.items():\n",
    "        print(f'I am {key} and I am a {val}')\n",
    "        \n",
    "nara = {}\n",
    "\n",
    "while True:\n",
    "    name = input('Type name: ')\n",
    "    rank = input('Type rank: ')\n",
    "    nara[name] = rank\n",
    "    \n",
    "    more = input('add more? (y/n)')\n",
    "    if more == 'y':\n",
    "        continue\n",
    "    else:\n",
    "        break\n",
    "rank_intro(nara)"
   ]
  },
  {
   "cell_type": "code",
   "execution_count": null,
   "metadata": {},
   "outputs": [],
   "source": []
  }
 ],
 "metadata": {
  "kernelspec": {
   "display_name": "Python 3",
   "language": "python",
   "name": "python3"
  },
  "language_info": {
   "codemirror_mode": {
    "name": "ipython",
    "version": 3
   },
   "file_extension": ".py",
   "mimetype": "text/x-python",
   "name": "python",
   "nbconvert_exporter": "python",
   "pygments_lexer": "ipython3",
   "version": "3.6.5"
  }
 },
 "nbformat": 4,
 "nbformat_minor": 2
}
