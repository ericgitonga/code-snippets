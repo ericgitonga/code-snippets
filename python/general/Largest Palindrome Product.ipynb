{
 "cells": [
  {
   "cell_type": "code",
   "execution_count": 1,
   "metadata": {
    "scrolled": false
   },
   "outputs": [
    {
     "name": "stdout",
     "output_type": "stream",
     "text": [
      "5\n",
      "The largest palindrome product of two numbers 5 digits or less is 990090099 with factors 99999 and 9901\n"
     ]
    }
   ],
   "source": [
    "import numpy as np\n",
    "\n",
    "def is_palindrome(x):\n",
    "    if str(x) == str(x)[::-1]:\n",
    "        return x\n",
    "\n",
    "def largest_palindrome():\n",
    "    y = int(input())\n",
    "    \n",
    "    factors = np.full(2,int(str(9)*y))\n",
    "    \n",
    "    i, j = factors[0], factors[1]\n",
    "    \n",
    "    while (j >= 1):\n",
    "        x = i * j\n",
    "        if is_palindrome(x):\n",
    "            return print(\"The largest palindrome product of two numbers \"\\\n",
    "                         + \"{} digits or less is {} with factors {} and {}\".format(y,x,i,j))\n",
    "        else:\n",
    "            j -= 1\n",
    "    return\n",
    "            \n",
    "largest_palindrome()"
   ]
  }
 ],
 "metadata": {
  "kernelspec": {
   "display_name": "Python 3",
   "language": "python",
   "name": "python3"
  },
  "language_info": {
   "codemirror_mode": {
    "name": "ipython",
    "version": 3
   },
   "file_extension": ".py",
   "mimetype": "text/x-python",
   "name": "python",
   "nbconvert_exporter": "python",
   "pygments_lexer": "ipython3",
   "version": "3.7.6"
  }
 },
 "nbformat": 4,
 "nbformat_minor": 2
}
