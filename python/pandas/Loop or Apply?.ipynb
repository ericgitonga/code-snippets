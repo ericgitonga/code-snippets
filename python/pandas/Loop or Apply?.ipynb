{
 "cells": [
  {
   "cell_type": "code",
   "execution_count": 1,
   "id": "08024df6-aac8-46da-8f6a-5cad7d7d933e",
   "metadata": {
    "tags": []
   },
   "outputs": [],
   "source": [
    "import pandas as pd\n",
    "import numpy as np"
   ]
  },
  {
   "cell_type": "code",
   "execution_count": 2,
   "id": "1c3753c6-d578-4eef-ad12-1b4144d38425",
   "metadata": {
    "tags": []
   },
   "outputs": [],
   "source": [
    "df = pd.DataFrame({\"A\": np.random.randint(0, 400, 1000000)})\n",
    "df_loop = df.copy()\n",
    "df_apply = df.copy()"
   ]
  },
  {
   "cell_type": "code",
   "execution_count": 3,
   "id": "60224423-e71a-4da7-8b61-ee8463b6e6cb",
   "metadata": {
    "tags": []
   },
   "outputs": [
    {
     "name": "stdout",
     "output_type": "stream",
     "text": [
      "CPU times: user 3min 12s, sys: 244 ms, total: 3min 13s\n",
      "Wall time: 3min 13s\n"
     ]
    }
   ],
   "source": [
    "%%time\n",
    "for i, value in df_loop.iterrows():\n",
    "    df_loop.loc[i, \"B\"] = np.sqrt(df_loop.loc[i, \"A\"])"
   ]
  },
  {
   "cell_type": "code",
   "execution_count": 4,
   "id": "9c707044-830c-450e-aba8-5f7c1fdd499e",
   "metadata": {
    "tags": []
   },
   "outputs": [
    {
     "name": "stdout",
     "output_type": "stream",
     "text": [
      "CPU times: user 11.7 ms, sys: 6 µs, total: 11.7 ms\n",
      "Wall time: 9.97 ms\n"
     ]
    }
   ],
   "source": [
    "%%time\n",
    "df_apply[\"B\"] = df_apply[\"A\"].apply(np.sqrt)"
   ]
  },
  {
   "cell_type": "code",
   "execution_count": 5,
   "id": "91f1ea0f-19e3-42af-aae3-bf72b1eec412",
   "metadata": {
    "tags": []
   },
   "outputs": [
    {
     "data": {
      "text/plain": [
       "True"
      ]
     },
     "execution_count": 5,
     "metadata": {},
     "output_type": "execute_result"
    }
   ],
   "source": [
    "df_loop.equals(df_apply)"
   ]
  }
 ],
 "metadata": {
  "kernelspec": {
   "display_name": "Python 3 (ipykernel)",
   "language": "python",
   "name": "python3"
  },
  "language_info": {
   "codemirror_mode": {
    "name": "ipython",
    "version": 3
   },
   "file_extension": ".py",
   "mimetype": "text/x-python",
   "name": "python",
   "nbconvert_exporter": "python",
   "pygments_lexer": "ipython3",
   "version": "3.8.10"
  }
 },
 "nbformat": 4,
 "nbformat_minor": 5
}
