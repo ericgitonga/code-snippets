{
 "cells": [
  {
   "cell_type": "code",
   "execution_count": 1,
   "metadata": {},
   "outputs": [],
   "source": [
    "def baby_word_count():\n",
    "    \n",
    "    file_to_read = input()\n",
    "\n",
    "    try:\n",
    "        read_file  = open(file_to_read, \"r\")\n",
    "        data = read_file.read()\n",
    "    except FileNotFoundError:\n",
    "        print(\"You entered a file not found in the directory. Try again.\")\n",
    "    except IsADirectoryError:\n",
    "        print(\"You entered a directory instead of a file. Try again.\")\n",
    "    except UnicodeDecodeError:\n",
    "        print(\"You entered the wrong file type. Try again.\")\n",
    "    else:\n",
    "        read_file.close()\n",
    "\n",
    "        words = data.split()\n",
    "        characters = list(data)\n",
    "\n",
    "        num_words = len(words)\n",
    "        num_characters = len(characters)\n",
    "\n",
    "        print(\"The file {} has {} words and {} characters in it.\".format(file_to_read, num_words, num_characters))"
   ]
  },
  {
   "cell_type": "markdown",
   "metadata": {},
   "source": [
    "Test with file not in directory."
   ]
  },
  {
   "cell_type": "code",
   "execution_count": 2,
   "metadata": {},
   "outputs": [
    {
     "name": "stdout",
     "output_type": "stream",
     "text": [
      "not_there\n",
      "You entered a file not found in the directory. Try again.\n"
     ]
    }
   ],
   "source": [
    "baby_word_count()"
   ]
  },
  {
   "cell_type": "markdown",
   "metadata": {},
   "source": [
    "Test with a directory"
   ]
  },
  {
   "cell_type": "code",
   "execution_count": 3,
   "metadata": {},
   "outputs": [
    {
     "name": "stdout",
     "output_type": "stream",
     "text": [
      "directory\n",
      "You entered a directory instead of a file. Try again.\n"
     ]
    }
   ],
   "source": [
    "baby_word_count()"
   ]
  },
  {
   "cell_type": "markdown",
   "metadata": {},
   "source": [
    "Test with a non-text file"
   ]
  },
  {
   "cell_type": "code",
   "execution_count": 4,
   "metadata": {},
   "outputs": [
    {
     "name": "stdout",
     "output_type": "stream",
     "text": [
      "plot.jpg\n",
      "You entered the wrong file type. Try again.\n"
     ]
    }
   ],
   "source": [
    "baby_word_count()"
   ]
  },
  {
   "cell_type": "markdown",
   "metadata": {},
   "source": [
    "Test with a text file."
   ]
  },
  {
   "cell_type": "code",
   "execution_count": 5,
   "metadata": {},
   "outputs": [
    {
     "name": "stdout",
     "output_type": "stream",
     "text": [
      "test\n",
      "The file test has 10 words and 63 characters in it.\n"
     ]
    }
   ],
   "source": [
    "baby_word_count()"
   ]
  },
  {
   "cell_type": "markdown",
   "metadata": {},
   "source": [
    "Meta Inceptional..."
   ]
  },
  {
   "cell_type": "code",
   "execution_count": 6,
   "metadata": {},
   "outputs": [
    {
     "name": "stdout",
     "output_type": "stream",
     "text": [
      "Baby WC.ipynb\n",
      "The file Baby WC.ipynb has 399 words and 3597 characters in it.\n"
     ]
    }
   ],
   "source": [
    "baby_word_count()"
   ]
  },
  {
   "cell_type": "code",
   "execution_count": null,
   "metadata": {},
   "outputs": [],
   "source": []
  },
  {
   "cell_type": "code",
   "execution_count": null,
   "metadata": {},
   "outputs": [],
   "source": []
  },
  {
   "cell_type": "code",
   "execution_count": null,
   "metadata": {},
   "outputs": [],
   "source": []
  }
 ],
 "metadata": {
  "kernelspec": {
   "display_name": "Python 3",
   "language": "python",
   "name": "python3"
  },
  "language_info": {
   "codemirror_mode": {
    "name": "ipython",
    "version": 3
   },
   "file_extension": ".py",
   "mimetype": "text/x-python",
   "name": "python",
   "nbconvert_exporter": "python",
   "pygments_lexer": "ipython3",
   "version": "3.6.5"
  }
 },
 "nbformat": 4,
 "nbformat_minor": 2
}
